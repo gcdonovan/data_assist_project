{
 "cells": [
  {
   "cell_type": "code",
   "execution_count": null,
   "metadata": {
    "code_folding": [
     0
    ]
   },
   "outputs": [],
   "source": [
    "# requirements\n",
    "# beautifulsoup4==4.4.1 USE 'conda install -c anaconda beautifulsoup4'\n",
    "# lxml==3.5.0\n",
    "# python-ntlm3==1.0.2\n",
    "# requests==2.9.1\n",
    "# requests-ntlm==0.2.0 (not available from conda 4/28/2016, USE pip instead - 'pip install requests_ntlm')\n",
    "# six==1.10.0\n",
    "# wheel==0.29.0\n",
    "# sciencebasepy USE 'pip install sciencebasepy'\n",
    "# xmltodict USE 'pip install xmltodict'\n",
    "\n",
    "from bs4 import BeautifulSoup\n",
    "import requests\n",
    "\n",
    "from requests_ntlm import HttpNtlmAuth\n",
    "import sciencebasepy as pysb\n",
    "import time\n",
    "import os\n",
    "import subprocess\n",
    "import re\n",
    "from getpass import getpass\n",
    "import getpass\n",
    "import json\n",
    "from urllib.request import urlopen\n",
    "import xmltodict\n",
    "from IPython.core.display import display, HTML\n",
    "import smtplib\n",
    "\n",
    "import pandas as pd\n",
    "import numpy as np\n",
    "\n",
    "import warnings\n",
    "warnings.filterwarnings('ignore')\n",
    "\n",
    "try: raw_input = input\n",
    "except NameError: pass"
   ]
  },
  {
   "cell_type": "code",
   "execution_count": null,
   "metadata": {
    "code_folding": [
     0
    ]
   },
   "outputs": [],
   "source": [
    "# get list of all public data releases\n",
    "sb = pysb.SbSession()\n",
    "def get_dr():\n",
    "    filter = {\n",
    "        \"max\": 1000,\n",
    "        \"filter0\": \"systemType=Data Release\",\n",
    "        \"fields\": \"id, title\"\n",
    "    }\n",
    "    response = sb.find_items(filter)\n",
    "    return response \n",
    "\n",
    "def create_item_list(response):\n",
    "    item_list = []\n",
    "    while response and 'items' in response:\n",
    "        for item in response['items']:\n",
    "            item_list.append(item)\n",
    "        response = sb.next(response)\n",
    "    return item_list\n",
    "\n",
    "id_list = []\n",
    "\n",
    "item_list = create_item_list(get_dr())\n",
    "\n",
    "for item in item_list:\n",
    "    id_list.append(item['id'])\n",
    "\n",
    "print (\"number of data releases: \" + str(len(id_list)))"
   ]
  },
  {
   "cell_type": "code",
   "execution_count": null,
   "metadata": {
    "code_folding": [
     0
    ]
   },
   "outputs": [],
   "source": [
    "# get list of all public data release landing pages + child items\n",
    "\n",
    "complete_id_list = []\n",
    "\n",
    "for id in id_list:\n",
    "    complete_id_list.append(id)\n",
    "    \n",
    "    descendant_id_list = sb.get_ancestor_ids(id)\n",
    "    for descendant_id in descendant_id_list:\n",
    "        complete_id_list.append(descendant_id)\n",
    "\n",
    "print (\"number of landing pages + child items: \" + str(len(complete_id_list)))"
   ]
  },
  {
   "cell_type": "code",
   "execution_count": null,
   "metadata": {},
   "outputs": [],
   "source": [
    "complete_id_list"
   ]
  },
  {
   "cell_type": "code",
   "execution_count": null,
   "metadata": {
    "code_folding": []
   },
   "outputs": [],
   "source": [
    "# run code on the ids of all landing pages and child items (i.e., complete_id_list)\n",
    "complete_list = []\n",
    "\n",
    "for id in complete_id_list:\n",
    "    \n",
    "    item = sb.get_item(id, {'fields':'title,files'})\n",
    "    \n",
    "    try:\n",
    "        file_list = item['files']\n",
    "    except:\n",
    "        pass\n",
    "    \n",
    "        complete_list.append(item)"
   ]
  },
  {
   "cell_type": "code",
   "execution_count": null,
   "metadata": {},
   "outputs": [],
   "source": [
    "complete_list"
   ]
  },
  {
   "cell_type": "code",
   "execution_count": null,
   "metadata": {},
   "outputs": [],
   "source": [
    "len(complete_list)"
   ]
  },
  {
   "cell_type": "code",
   "execution_count": null,
   "metadata": {
    "code_folding": [
     0
    ]
   },
   "outputs": [],
   "source": [
    "# Define - create dataframe for data releases\n",
    "\n",
    "def make_clickable(val):\n",
    "    if val != '':\n",
    "        name, url = val.split('#')\n",
    "        return f'<a href=\"{url}\" target=\"_blank\">{name}</a>'\n",
    "    else:\n",
    "        return ''\n",
    "\n",
    "def create_dr_df(complete_list):\n",
    "    item_list_dict = [] \n",
    "    \n",
    "    for item in complete_list:\n",
    "        item_dict = {}\n",
    "        item_dict['itemID'] = item['id']\n",
    "        item_dict['title_hyperlink'] = item['title']+'#https://www.sciencebase.gov/catalog/item/'+item['id']\n",
    "            \n",
    "        ### Append dictionary to item_list_dict to create a list of dictionaries\n",
    "        item_list_dict.append(item_dict)\n",
    "        \n",
    "    # Convert item_list_dict into dataframe\n",
    "    df = pd.DataFrame(item_list_dict)\n",
    "    \n",
    "    return df"
   ]
  },
  {
   "cell_type": "code",
   "execution_count": null,
   "metadata": {
    "code_folding": [
     0
    ]
   },
   "outputs": [],
   "source": [
    "# create dataframe\n",
    "\n",
    "df = create_dr_df(complete_list)"
   ]
  },
  {
   "cell_type": "code",
   "execution_count": null,
   "metadata": {
    "code_folding": [
     0
    ]
   },
   "outputs": [],
   "source": [
    "# display dataframe with clickable URLs\n",
    "\n",
    "display(df.style.format({'title_hyperlink': make_clickable}))"
   ]
  },
  {
   "cell_type": "code",
   "execution_count": null,
   "metadata": {
    "code_folding": [
     0
    ]
   },
   "outputs": [],
   "source": [
    "# save dataframe as .csv\n",
    "\n",
    "df.to_csv('metadata_output_complete.csv', index=False)"
   ]
  },
  {
   "cell_type": "code",
   "execution_count": null,
   "metadata": {},
   "outputs": [],
   "source": [
    "df.to_csv('public_data_releases.csv', index='false')"
   ]
  },
  {
   "cell_type": "code",
   "execution_count": null,
   "metadata": {},
   "outputs": [],
   "source": []
  }
 ],
 "metadata": {
  "kernelspec": {
   "display_name": "Python 3",
   "language": "python",
   "name": "python3"
  },
  "language_info": {
   "codemirror_mode": {
    "name": "ipython",
    "version": 3
   },
   "file_extension": ".py",
   "mimetype": "text/x-python",
   "name": "python",
   "nbconvert_exporter": "python",
   "pygments_lexer": "ipython3",
   "version": "3.8.3"
  }
 },
 "nbformat": 4,
 "nbformat_minor": 1
}
